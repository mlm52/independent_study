{
 "cells": [
  {
   "cell_type": "code",
   "execution_count": 34,
   "metadata": {},
   "outputs": [],
   "source": [
    "import numpy as np\n",
    "import math\n",
    "import matplotlib.pyplot as plt\n",
    "import PIL"
   ]
  },
  {
   "cell_type": "code",
   "execution_count": 35,
   "metadata": {},
   "outputs": [
    {
     "name": "stdout",
     "output_type": "stream",
     "text": [
      "(64, 64)\n",
      "[[[-7.96875    -7.96875    11.26951433]\n",
      "  [-7.96875    -7.71577381 11.09207564]\n",
      "  [-7.96875    -7.46279762 10.91761535]\n",
      "  ...\n",
      "  [-7.96875     7.46279762 10.91761535]\n",
      "  [-7.96875     7.71577381 11.09207564]\n",
      "  [-7.96875     7.96875    11.26951433]]\n",
      "\n",
      " [[-7.71577381 -7.96875    11.09207564]\n",
      "  [-7.71577381 -7.71577381 10.91175197]\n",
      "  [-7.71577381 -7.46279762 10.73436136]\n",
      "  ...\n",
      "  [-7.71577381  7.46279762 10.73436136]\n",
      "  [-7.71577381  7.71577381 10.91175197]\n",
      "  [-7.71577381  7.96875    11.09207564]]\n",
      "\n",
      " [[-7.46279762 -7.96875    10.91761535]\n",
      "  [-7.46279762 -7.71577381 10.73436136]\n",
      "  [-7.46279762 -7.46279762 10.55398961]\n",
      "  ...\n",
      "  [-7.46279762  7.46279762 10.55398961]\n",
      "  [-7.46279762  7.71577381 10.73436136]\n",
      "  [-7.46279762  7.96875    10.91761535]]\n",
      "\n",
      " ...\n",
      "\n",
      " [[ 7.46279762 -7.96875    10.91761535]\n",
      "  [ 7.46279762 -7.71577381 10.73436136]\n",
      "  [ 7.46279762 -7.46279762 10.55398961]\n",
      "  ...\n",
      "  [ 7.46279762  7.46279762 10.55398961]\n",
      "  [ 7.46279762  7.71577381 10.73436136]\n",
      "  [ 7.46279762  7.96875    10.91761535]]\n",
      "\n",
      " [[ 7.71577381 -7.96875    11.09207564]\n",
      "  [ 7.71577381 -7.71577381 10.91175197]\n",
      "  [ 7.71577381 -7.46279762 10.73436136]\n",
      "  ...\n",
      "  [ 7.71577381  7.46279762 10.73436136]\n",
      "  [ 7.71577381  7.71577381 10.91175197]\n",
      "  [ 7.71577381  7.96875    11.09207564]]\n",
      "\n",
      " [[ 7.96875    -7.96875    11.26951433]\n",
      "  [ 7.96875    -7.71577381 11.09207564]\n",
      "  [ 7.96875    -7.46279762 10.91761535]\n",
      "  ...\n",
      "  [ 7.96875     7.46279762 10.91761535]\n",
      "  [ 7.96875     7.71577381 11.09207564]\n",
      "  [ 7.96875     7.96875    11.26951433]]]\n"
     ]
    }
   ],
   "source": [
    "x=np.linspace(-7.96875,7.96875,64)\n",
    "x= x.repeat(64)\n",
    "x=x.reshape((64,64))\n",
    "print(x.shape)\n",
    "x=np.stack((x,x.transpose()),axis=2)\n",
    "r=np.sqrt(np.square(x).sum(axis=2))\n",
    "x=np.append(x,np.expand_dims(r,2),axis=2)\n",
    "print(x)"
   ]
  },
  {
   "cell_type": "code",
   "execution_count": 36,
   "metadata": {},
   "outputs": [
    {
     "name": "stdout",
     "output_type": "stream",
     "text": [
      "(4, 4)\n",
      "[[[-1.5        -1.5         2.12132034]\n",
      "  [-1.5        -0.5         1.58113883]\n",
      "  [-1.5         0.5         1.58113883]\n",
      "  [-1.5         1.5         2.12132034]]\n",
      "\n",
      " [[-0.5        -1.5         1.58113883]\n",
      "  [-0.5        -0.5         0.70710678]\n",
      "  [-0.5         0.5         0.70710678]\n",
      "  [-0.5         1.5         1.58113883]]\n",
      "\n",
      " [[ 0.5        -1.5         1.58113883]\n",
      "  [ 0.5        -0.5         0.70710678]\n",
      "  [ 0.5         0.5         0.70710678]\n",
      "  [ 0.5         1.5         1.58113883]]\n",
      "\n",
      " [[ 1.5        -1.5         2.12132034]\n",
      "  [ 1.5        -0.5         1.58113883]\n",
      "  [ 1.5         0.5         1.58113883]\n",
      "  [ 1.5         1.5         2.12132034]]]\n"
     ]
    }
   ],
   "source": [
    "y=np.linspace(-1.5,1.5,4)\n",
    "y= y.repeat(4)\n",
    "y=y.reshape((4,4))\n",
    "print(y.shape)\n",
    "y=np.stack((y,y.transpose()),axis=2)\n",
    "r=np.sqrt(np.square(y).sum(axis=2))\n",
    "y=np.append(y,np.expand_dims(r,2),axis=2)\n",
    "print(y)"
   ]
  },
  {
   "cell_type": "code",
   "execution_count": 37,
   "metadata": {},
   "outputs": [
    {
     "name": "stdout",
     "output_type": "stream",
     "text": [
      "(4, 4, 3)\n"
     ]
    },
    {
     "data": {
      "text/plain": [
       "(4, 4, 3)"
      ]
     },
     "execution_count": 37,
     "metadata": {},
     "output_type": "execute_result"
    }
   ],
   "source": [
    "print(y.shape)\n",
    "h=np.matmul(y,np.random.rand(3,3))\n",
    "h.shape"
   ]
  },
  {
   "cell_type": "code",
   "execution_count": 38,
   "metadata": {},
   "outputs": [
    {
     "name": "stdout",
     "output_type": "stream",
     "text": [
      "[[[-7.15797040e-01 -9.93250348e-01 -1.12204596e+00]\n",
      "  [-1.89187381e-01 -6.46495268e-01 -7.61415909e-01]\n",
      "  [ 5.15142821e-01 -1.19828073e-02 -3.68775555e-01]\n",
      "  [ 1.39719357e+00  9.10287035e-01  5.58751075e-02]]\n",
      "\n",
      " [[-6.55371336e-01 -4.99994686e-01 -7.14861908e-01]\n",
      "  [-2.38599013e-01 -3.31083449e-01 -3.74015319e-01]\n",
      "  [ 4.65731189e-01  3.03429012e-01  1.86250358e-02]\n",
      "  [ 1.45761927e+00  1.40354270e+00  4.63059156e-01]]\n",
      "\n",
      " [[-4.17225089e-01  2.81018357e-01 -2.75667552e-01]\n",
      "  [-4.52766109e-04  4.49929594e-01  6.51790373e-02]\n",
      "  [ 7.03877436e-01  1.08444205e+00  4.57819392e-01]\n",
      "  [ 1.69576552e+00  2.18455574e+00  9.02253512e-01]]\n",
      "\n",
      " [[-1.35829833e-03  1.34978878e+00  1.95537112e-01]\n",
      "  [ 5.25251361e-01  1.69654386e+00  5.56167159e-01]\n",
      "  [ 1.22958156e+00  2.33105632e+00  9.48807513e-01]\n",
      "  [ 2.11163231e+00  3.25332616e+00  1.37345818e+00]]]\n"
     ]
    },
    {
     "data": {
      "text/plain": [
       "array([[-0.65621905, -0.83780499, -0.90098994],\n",
       "       [-0.18806084, -0.60239263, -0.68994706],\n",
       "       [ 0.49265914, -0.01198252, -0.36047358],\n",
       "       [ 0.98496885,  0.78967987,  0.05584604]])"
      ]
     },
     "execution_count": 38,
     "metadata": {},
     "output_type": "execute_result"
    }
   ],
   "source": [
    "print(h)\n",
    "np.sin(h[:][:][0])"
   ]
  },
  {
   "cell_type": "code",
   "execution_count": 39,
   "metadata": {},
   "outputs": [],
   "source": [
    "def ftype(matrix, kind):\n",
    "    if kind<-0.5:\n",
    "        return np.sin(matrix)\n",
    "    elif kind<0.0:\n",
    "        return np.cos(matrix)\n",
    "    elif kind<.5:\n",
    "        return np.exp((np.square(matrix/2)/-2))/(2*(2*math.pi)**.5)\n",
    "    return matrix"
   ]
  },
  {
   "cell_type": "code",
   "execution_count": 40,
   "metadata": {},
   "outputs": [
    {
     "data": {
      "text/plain": [
       "array([[0.15056872, 0.15056872, 0.11365523],\n",
       "       [0.15056872, 0.19333406, 0.1459362 ],\n",
       "       [0.15056872, 0.19333406, 0.1459362 ],\n",
       "       [0.15056872, 0.15056872, 0.11365523]])"
      ]
     },
     "execution_count": 40,
     "metadata": {},
     "output_type": "execute_result"
    }
   ],
   "source": [
    "ftype(y[:][:][0],.0)"
   ]
  },
  {
   "cell_type": "code",
   "execution_count": 41,
   "metadata": {},
   "outputs": [
    {
     "name": "stdout",
     "output_type": "stream",
     "text": [
      "(4, 4, 3) shape of y\n",
      "(4, 4, 4) shape of h\n",
      "(4, 4) shape of h0\n",
      "(4, 4, 4)\n",
      "[[[0.63841381]\n",
      "  [0.63294468]\n",
      "  [0.58245159]\n",
      "  [0.18805208]]\n",
      "\n",
      " [[0.64050728]\n",
      "  [0.48830299]\n",
      "  [0.63739546]\n",
      "  [0.19130764]]\n",
      "\n",
      " [[0.47991824]\n",
      "  [0.64135734]\n",
      "  [0.52767319]\n",
      "  [0.28295888]]\n",
      "\n",
      " [[0.21684169]\n",
      "  [0.1935861 ]\n",
      "  [0.30164287]\n",
      "  [0.73012212]]]\n"
     ]
    }
   ],
   "source": [
    "ex=np.random.rand(34)*2-1\n",
    "h=np.matmul(y,ex[0:12].reshape((3,4))*2)\n",
    "print(y.shape,\"shape of y\")\n",
    "print(h.shape,\"shape of h\")\n",
    "h0=ftype(h[:,:,0],ex[27])\n",
    "print(h[:,:,0].shape,\"shape of h0\")\n",
    "h1=ftype(h[:,:,1],ex[28])\n",
    "h2=ftype(h[:,:,2],ex[29])\n",
    "h3=ftype(h[:,:,3],ex[30])\n",
    "h = np.stack((h0,h1,h2,h3),axis=2)\n",
    "print(h.shape)\n",
    "h=np.matmul(h,ex[12:24].reshape((4,3))*2)\n",
    "h0=ftype(h[:,:,0],ex[31])\n",
    "h1=ftype(h[:,:,1],ex[32])\n",
    "h2=ftype(h[:,:,2],ex[33])\n",
    "h = np.stack((h0,h1,h2),axis=2)\n",
    "h=np.matmul(h,ex[24:27].reshape((3,1))*2)\n",
    "f=1/(1 + np.exp(-h))\n",
    "print(f)"
   ]
  },
  {
   "cell_type": "code",
   "execution_count": 42,
   "metadata": {},
   "outputs": [
    {
     "data": {
      "text/plain": [
       "<matplotlib.image.AxesImage at 0x21b9190ea30>"
      ]
     },
     "execution_count": 42,
     "metadata": {},
     "output_type": "execute_result"
    },
    {
     "data": {
      "image/png": "[encoded data removed]",
      "text/plain": [
       "<Figure size 432x288 with 1 Axes>"
      ]
     },
     "metadata": {
      "needs_background": "light"
     },
     "output_type": "display_data"
    }
   ],
   "source": [
    "plt.imshow(f, cmap='Greys_r')"
   ]
  },
  {
   "cell_type": "code",
   "execution_count": 89,
   "metadata": {},
   "outputs": [
    {
     "name": "stdout",
     "output_type": "stream",
     "text": [
      "(64, 64, 3) shape of x\n",
      "(64, 64, 4) shape of h\n",
      "(64, 64) shape of h0\n",
      "(64, 64, 4)\n"
     ]
    },
    {
     "data": {
      "text/plain": [
       "<matplotlib.image.AxesImage at 0x21b930bfaf0>"
      ]
     },
     "execution_count": 89,
     "metadata": {},
     "output_type": "execute_result"
    },
    {
     "data": {
      "image/png": "[encoded data removed]",
      "text/plain": [
       "<Figure size 432x288 with 1 Axes>"
      ]
     },
     "metadata": {
      "needs_background": "light"
     },
     "output_type": "display_data"
    }
   ],
   "source": [
    "ex=np.array([0.9739412194702096,-1.9195881630170408,3.736302558493344,0.49156424231181406,13.17294862279367,-1.7976563080501464,0.028934917980382727,-6.905698678240132,-11.953465173466137,3.08548046260076,-0.006662979177737062,-1.5989294079406051,-3.2075725637688195,1.0465592843244025,1.099445461631723,-2.379373466496586,0.7402282350588381,-0.47122547894277195,14.880175088609917,-0.7196042787016892,-1.5896863160421881,-1.6000515451383253,-0.8108362868640943,0.3718337945567631])\n",
    "ex=np.random.rand(34)*2-1\n",
    "h=np.matmul(x,ex[0:12].reshape((3,4))*2)\n",
    "print(x.shape,\"shape of x\")\n",
    "print(h.shape,\"shape of h\")\n",
    "h0=ftype(h[:,:,0],ex[27])\n",
    "print(h[:,:,0].shape,\"shape of h0\")\n",
    "h1=ftype(h[:,:,1],ex[28])\n",
    "h2=ftype(h[:,:,2],ex[29])\n",
    "h3=ftype(h[:,:,3],ex[30])\n",
    "h = np.stack((h0,h1,h2,h3),axis=2)\n",
    "print(h.shape)\n",
    "h=np.matmul(h,ex[12:24].reshape((4,3))*2)\n",
    "h0=ftype(h[:,:,0],ex[31])\n",
    "h1=ftype(h[:,:,1],ex[32])\n",
    "h2=ftype(h[:,:,2],ex[33])\n",
    "h = np.stack((h0,h1,h2),axis=2)\n",
    "h=np.matmul(h,ex[24:27].reshape((3,1))*2)\n",
    "f=1/(1 + np.exp(-h))\n",
    "plt.imshow(f, cmap='Greys_r',vmin=0, vmax=1)"
   ]
  },
  {
   "cell_type": "code",
   "execution_count": 12,
   "metadata": {},
   "outputs": [
    {
     "data": {
      "text/plain": [
       "array([-0.41887055, -0.58039969, -0.91453662,  0.96391957, -0.51158776,\n",
       "       -0.57836206, -0.98480095,  0.52665125,  0.71374533,  0.20614043,\n",
       "       -0.92514209, -0.69679527,  0.19244525, -0.75588577,  0.73842493,\n",
       "        0.63325593,  0.50971384, -0.73941827, -0.97964299,  0.19501928,\n",
       "        0.41352716, -0.97941363, -0.48578896, -0.69245104,  0.74791742,\n",
       "       -0.3134406 , -0.11646506,  0.17991311,  0.59689079,  0.56861325,\n",
       "       -0.376823  ,  0.39744404,  0.79970435, -0.11698114])"
      ]
     },
     "execution_count": 12,
     "metadata": {},
     "output_type": "execute_result"
    }
   ],
   "source": [
    "ex"
   ]
  },
  {
   "cell_type": "code",
   "execution_count": 48,
   "metadata": {},
   "outputs": [
    {
     "data": {
      "text/plain": [
       "<matplotlib.image.AxesImage at 0x21b929dc100>"
      ]
     },
     "execution_count": 48,
     "metadata": {},
     "output_type": "execute_result"
    },
    {
     "data": {
      "image/png": "[encoded data removed]",
      "text/plain": [
       "<Figure size 432x288 with 1 Axes>"
      ]
     },
     "metadata": {
      "needs_background": "light"
     },
     "output_type": "display_data"
    }
   ],
   "source": [
    "im = PIL.Image.open(\"skull-target.jpg\")\n",
    "im1=im.convert(\"L\").resize((64,64))\n",
    "goal=np.array(im1)/255\n",
    "im.close()\n",
    "plt.imshow(goal, cmap='Greys_r',vmin=0, vmax=1)"
   ]
  },
  {
   "cell_type": "code",
   "execution_count": 58,
   "metadata": {},
   "outputs": [
    {
     "name": "stdout",
     "output_type": "stream",
     "text": [
      "(64, 64, 1)\n"
     ]
    },
    {
     "ename": "TypeError",
     "evalue": "Invalid shape (64, 64, 64) for image data",
     "output_type": "error",
     "traceback": [
      "\u001b[1;31m---------------------------------------------------------------------------\u001b[0m",
      "\u001b[1;31mTypeError\u001b[0m                                 Traceback (most recent call last)",
      "\u001b[1;32m<ipython-input-58-11bcf68a8099>\u001b[0m in \u001b[0;36m<module>\u001b[1;34m\u001b[0m\n\u001b[0;32m      1\u001b[0m \u001b[0mprint\u001b[0m\u001b[1;33m(\u001b[0m\u001b[0mf\u001b[0m\u001b[1;33m.\u001b[0m\u001b[0mshape\u001b[0m\u001b[1;33m)\u001b[0m\u001b[1;33m\u001b[0m\u001b[1;33m\u001b[0m\u001b[0m\n\u001b[1;32m----> 2\u001b[1;33m \u001b[0mplt\u001b[0m\u001b[1;33m.\u001b[0m\u001b[0mimshow\u001b[0m\u001b[1;33m(\u001b[0m\u001b[0mgoal\u001b[0m\u001b[1;33m-\u001b[0m\u001b[0mf\u001b[0m\u001b[1;33m,\u001b[0m \u001b[0mcmap\u001b[0m\u001b[1;33m=\u001b[0m\u001b[1;34m'Greys_r'\u001b[0m\u001b[1;33m,\u001b[0m\u001b[0mvmin\u001b[0m\u001b[1;33m=\u001b[0m\u001b[1;36m0\u001b[0m\u001b[1;33m,\u001b[0m \u001b[0mvmax\u001b[0m\u001b[1;33m=\u001b[0m\u001b[1;36m1\u001b[0m\u001b[1;33m)\u001b[0m\u001b[1;33m\u001b[0m\u001b[1;33m\u001b[0m\u001b[0m\n\u001b[0m",
      "\u001b[1;32m~\\anaconda3\\lib\\site-packages\\matplotlib\\pyplot.py\u001b[0m in \u001b[0;36mimshow\u001b[1;34m(X, cmap, norm, aspect, interpolation, alpha, vmin, vmax, origin, extent, filternorm, filterrad, resample, url, data, **kwargs)\u001b[0m\n\u001b[0;32m   2722\u001b[0m         \u001b[0mfilternorm\u001b[0m\u001b[1;33m=\u001b[0m\u001b[1;32mTrue\u001b[0m\u001b[1;33m,\u001b[0m \u001b[0mfilterrad\u001b[0m\u001b[1;33m=\u001b[0m\u001b[1;36m4.0\u001b[0m\u001b[1;33m,\u001b[0m \u001b[0mresample\u001b[0m\u001b[1;33m=\u001b[0m\u001b[1;32mNone\u001b[0m\u001b[1;33m,\u001b[0m \u001b[0murl\u001b[0m\u001b[1;33m=\u001b[0m\u001b[1;32mNone\u001b[0m\u001b[1;33m,\u001b[0m\u001b[1;33m\u001b[0m\u001b[1;33m\u001b[0m\u001b[0m\n\u001b[0;32m   2723\u001b[0m         data=None, **kwargs):\n\u001b[1;32m-> 2724\u001b[1;33m     __ret = gca().imshow(\n\u001b[0m\u001b[0;32m   2725\u001b[0m         \u001b[0mX\u001b[0m\u001b[1;33m,\u001b[0m \u001b[0mcmap\u001b[0m\u001b[1;33m=\u001b[0m\u001b[0mcmap\u001b[0m\u001b[1;33m,\u001b[0m \u001b[0mnorm\u001b[0m\u001b[1;33m=\u001b[0m\u001b[0mnorm\u001b[0m\u001b[1;33m,\u001b[0m \u001b[0maspect\u001b[0m\u001b[1;33m=\u001b[0m\u001b[0maspect\u001b[0m\u001b[1;33m,\u001b[0m\u001b[1;33m\u001b[0m\u001b[1;33m\u001b[0m\u001b[0m\n\u001b[0;32m   2726\u001b[0m         \u001b[0minterpolation\u001b[0m\u001b[1;33m=\u001b[0m\u001b[0minterpolation\u001b[0m\u001b[1;33m,\u001b[0m \u001b[0malpha\u001b[0m\u001b[1;33m=\u001b[0m\u001b[0malpha\u001b[0m\u001b[1;33m,\u001b[0m \u001b[0mvmin\u001b[0m\u001b[1;33m=\u001b[0m\u001b[0mvmin\u001b[0m\u001b[1;33m,\u001b[0m\u001b[1;33m\u001b[0m\u001b[1;33m\u001b[0m\u001b[0m\n",
      "\u001b[1;32m~\\anaconda3\\lib\\site-packages\\matplotlib\\__init__.py\u001b[0m in \u001b[0;36minner\u001b[1;34m(ax, data, *args, **kwargs)\u001b[0m\n\u001b[0;32m   1436\u001b[0m     \u001b[1;32mdef\u001b[0m \u001b[0minner\u001b[0m\u001b[1;33m(\u001b[0m\u001b[0max\u001b[0m\u001b[1;33m,\u001b[0m \u001b[1;33m*\u001b[0m\u001b[0margs\u001b[0m\u001b[1;33m,\u001b[0m \u001b[0mdata\u001b[0m\u001b[1;33m=\u001b[0m\u001b[1;32mNone\u001b[0m\u001b[1;33m,\u001b[0m \u001b[1;33m**\u001b[0m\u001b[0mkwargs\u001b[0m\u001b[1;33m)\u001b[0m\u001b[1;33m:\u001b[0m\u001b[1;33m\u001b[0m\u001b[1;33m\u001b[0m\u001b[0m\n\u001b[0;32m   1437\u001b[0m         \u001b[1;32mif\u001b[0m \u001b[0mdata\u001b[0m \u001b[1;32mis\u001b[0m \u001b[1;32mNone\u001b[0m\u001b[1;33m:\u001b[0m\u001b[1;33m\u001b[0m\u001b[1;33m\u001b[0m\u001b[0m\n\u001b[1;32m-> 1438\u001b[1;33m             \u001b[1;32mreturn\u001b[0m \u001b[0mfunc\u001b[0m\u001b[1;33m(\u001b[0m\u001b[0max\u001b[0m\u001b[1;33m,\u001b[0m \u001b[1;33m*\u001b[0m\u001b[0mmap\u001b[0m\u001b[1;33m(\u001b[0m\u001b[0msanitize_sequence\u001b[0m\u001b[1;33m,\u001b[0m \u001b[0margs\u001b[0m\u001b[1;33m)\u001b[0m\u001b[1;33m,\u001b[0m \u001b[1;33m**\u001b[0m\u001b[0mkwargs\u001b[0m\u001b[1;33m)\u001b[0m\u001b[1;33m\u001b[0m\u001b[1;33m\u001b[0m\u001b[0m\n\u001b[0m\u001b[0;32m   1439\u001b[0m \u001b[1;33m\u001b[0m\u001b[0m\n\u001b[0;32m   1440\u001b[0m         \u001b[0mbound\u001b[0m \u001b[1;33m=\u001b[0m \u001b[0mnew_sig\u001b[0m\u001b[1;33m.\u001b[0m\u001b[0mbind\u001b[0m\u001b[1;33m(\u001b[0m\u001b[0max\u001b[0m\u001b[1;33m,\u001b[0m \u001b[1;33m*\u001b[0m\u001b[0margs\u001b[0m\u001b[1;33m,\u001b[0m \u001b[1;33m**\u001b[0m\u001b[0mkwargs\u001b[0m\u001b[1;33m)\u001b[0m\u001b[1;33m\u001b[0m\u001b[1;33m\u001b[0m\u001b[0m\n",
      "\u001b[1;32m~\\anaconda3\\lib\\site-packages\\matplotlib\\axes\\_axes.py\u001b[0m in \u001b[0;36mimshow\u001b[1;34m(self, X, cmap, norm, aspect, interpolation, alpha, vmin, vmax, origin, extent, filternorm, filterrad, resample, url, **kwargs)\u001b[0m\n\u001b[0;32m   5521\u001b[0m                               resample=resample, **kwargs)\n\u001b[0;32m   5522\u001b[0m \u001b[1;33m\u001b[0m\u001b[0m\n\u001b[1;32m-> 5523\u001b[1;33m         \u001b[0mim\u001b[0m\u001b[1;33m.\u001b[0m\u001b[0mset_data\u001b[0m\u001b[1;33m(\u001b[0m\u001b[0mX\u001b[0m\u001b[1;33m)\u001b[0m\u001b[1;33m\u001b[0m\u001b[1;33m\u001b[0m\u001b[0m\n\u001b[0m\u001b[0;32m   5524\u001b[0m         \u001b[0mim\u001b[0m\u001b[1;33m.\u001b[0m\u001b[0mset_alpha\u001b[0m\u001b[1;33m(\u001b[0m\u001b[0malpha\u001b[0m\u001b[1;33m)\u001b[0m\u001b[1;33m\u001b[0m\u001b[1;33m\u001b[0m\u001b[0m\n\u001b[0;32m   5525\u001b[0m         \u001b[1;32mif\u001b[0m \u001b[0mim\u001b[0m\u001b[1;33m.\u001b[0m\u001b[0mget_clip_path\u001b[0m\u001b[1;33m(\u001b[0m\u001b[1;33m)\u001b[0m \u001b[1;32mis\u001b[0m \u001b[1;32mNone\u001b[0m\u001b[1;33m:\u001b[0m\u001b[1;33m\u001b[0m\u001b[1;33m\u001b[0m\u001b[0m\n",
      "\u001b[1;32m~\\anaconda3\\lib\\site-packages\\matplotlib\\image.py\u001b[0m in \u001b[0;36mset_data\u001b[1;34m(self, A)\u001b[0m\n\u001b[0;32m    707\u001b[0m         if not (self._A.ndim == 2\n\u001b[0;32m    708\u001b[0m                 or self._A.ndim == 3 and self._A.shape[-1] in [3, 4]):\n\u001b[1;32m--> 709\u001b[1;33m             raise TypeError(\"Invalid shape {} for image data\"\n\u001b[0m\u001b[0;32m    710\u001b[0m                             .format(self._A.shape))\n\u001b[0;32m    711\u001b[0m \u001b[1;33m\u001b[0m\u001b[0m\n",
      "\u001b[1;31mTypeError\u001b[0m: Invalid shape (64, 64, 64) for image data"
     ]
    },
    {
     "data": {
      "image/png": "[encoded data removed]",
      "text/plain": [
       "<Figure size 432x288 with 1 Axes>"
      ]
     },
     "metadata": {
      "needs_background": "light"
     },
     "output_type": "display_data"
    }
   ],
   "source": [
    "print(f.shape)\n",
    "plt.imshow(goal-f, cmap='Greys_r',vmin=0, vmax=1)"
   ]
  },
  {
   "cell_type": "code",
   "execution_count": null,
   "metadata": {},
   "outputs": [],
   "source": []
  }
 ],
 "metadata": {
  "kernelspec": {
   "display_name": "Python 3",
   "language": "python",
   "name": "python3"
  },
  "language_info": {
   "codemirror_mode": {
    "name": "ipython",
    "version": 3
   },
   "file_extension": ".py",
   "mimetype": "text/x-python",
   "name": "python",
   "nbconvert_exporter": "python",
   "pygments_lexer": "ipython3",
   "version": "3.8.5"
  }
 },
 "nbformat": 4,
 "nbformat_minor": 4
}
