{
 "cells": [
  {
   "cell_type": "code",
   "execution_count": 1,
   "metadata": {},
   "outputs": [],
   "source": [
    "import numpy as np\n",
    "import math\n",
    "import matplotlib.pyplot as plt"
   ]
  },
  {
   "cell_type": "code",
   "execution_count": 2,
   "metadata": {},
   "outputs": [
    {
     "name": "stdout",
     "output_type": "stream",
     "text": [
      "(64, 64)\n",
      "[[[-7.96875    -7.96875    11.26951433]\n",
      "  [-7.96875    -7.71577381 11.09207564]\n",
      "  [-7.96875    -7.46279762 10.91761535]\n",
      "  ...\n",
      "  [-7.96875     7.46279762 10.91761535]\n",
      "  [-7.96875     7.71577381 11.09207564]\n",
      "  [-7.96875     7.96875    11.26951433]]\n",
      "\n",
      " [[-7.71577381 -7.96875    11.09207564]\n",
      "  [-7.71577381 -7.71577381 10.91175197]\n",
      "  [-7.71577381 -7.46279762 10.73436136]\n",
      "  ...\n",
      "  [-7.71577381  7.46279762 10.73436136]\n",
      "  [-7.71577381  7.71577381 10.91175197]\n",
      "  [-7.71577381  7.96875    11.09207564]]\n",
      "\n",
      " [[-7.46279762 -7.96875    10.91761535]\n",
      "  [-7.46279762 -7.71577381 10.73436136]\n",
      "  [-7.46279762 -7.46279762 10.55398961]\n",
      "  ...\n",
      "  [-7.46279762  7.46279762 10.55398961]\n",
      "  [-7.46279762  7.71577381 10.73436136]\n",
      "  [-7.46279762  7.96875    10.91761535]]\n",
      "\n",
      " ...\n",
      "\n",
      " [[ 7.46279762 -7.96875    10.91761535]\n",
      "  [ 7.46279762 -7.71577381 10.73436136]\n",
      "  [ 7.46279762 -7.46279762 10.55398961]\n",
      "  ...\n",
      "  [ 7.46279762  7.46279762 10.55398961]\n",
      "  [ 7.46279762  7.71577381 10.73436136]\n",
      "  [ 7.46279762  7.96875    10.91761535]]\n",
      "\n",
      " [[ 7.71577381 -7.96875    11.09207564]\n",
      "  [ 7.71577381 -7.71577381 10.91175197]\n",
      "  [ 7.71577381 -7.46279762 10.73436136]\n",
      "  ...\n",
      "  [ 7.71577381  7.46279762 10.73436136]\n",
      "  [ 7.71577381  7.71577381 10.91175197]\n",
      "  [ 7.71577381  7.96875    11.09207564]]\n",
      "\n",
      " [[ 7.96875    -7.96875    11.26951433]\n",
      "  [ 7.96875    -7.71577381 11.09207564]\n",
      "  [ 7.96875    -7.46279762 10.91761535]\n",
      "  ...\n",
      "  [ 7.96875     7.46279762 10.91761535]\n",
      "  [ 7.96875     7.71577381 11.09207564]\n",
      "  [ 7.96875     7.96875    11.26951433]]]\n"
     ]
    }
   ],
   "source": [
    "x=np.linspace(-7.96875,7.96875,64)\n",
    "x= x.repeat(64)\n",
    "x=x.reshape((64,64))\n",
    "print(x.shape)\n",
    "x=np.stack((x,x.transpose()),axis=2)\n",
    "r=np.sqrt(np.square(x).sum(axis=2))\n",
    "x=np.append(x,np.expand_dims(r,2),axis=2)\n",
    "print(x)"
   ]
  },
  {
   "cell_type": "code",
   "execution_count": 3,
   "metadata": {},
   "outputs": [
    {
     "name": "stdout",
     "output_type": "stream",
     "text": [
      "(4, 4)\n",
      "[[[-1.5        -1.5         2.12132034]\n",
      "  [-1.5        -0.5         1.58113883]\n",
      "  [-1.5         0.5         1.58113883]\n",
      "  [-1.5         1.5         2.12132034]]\n",
      "\n",
      " [[-0.5        -1.5         1.58113883]\n",
      "  [-0.5        -0.5         0.70710678]\n",
      "  [-0.5         0.5         0.70710678]\n",
      "  [-0.5         1.5         1.58113883]]\n",
      "\n",
      " [[ 0.5        -1.5         1.58113883]\n",
      "  [ 0.5        -0.5         0.70710678]\n",
      "  [ 0.5         0.5         0.70710678]\n",
      "  [ 0.5         1.5         1.58113883]]\n",
      "\n",
      " [[ 1.5        -1.5         2.12132034]\n",
      "  [ 1.5        -0.5         1.58113883]\n",
      "  [ 1.5         0.5         1.58113883]\n",
      "  [ 1.5         1.5         2.12132034]]]\n"
     ]
    }
   ],
   "source": [
    "y=np.linspace(-1.5,1.5,4)\n",
    "y= y.repeat(4)\n",
    "y=y.reshape((4,4))\n",
    "print(y.shape)\n",
    "y=np.stack((y,y.transpose()),axis=2)\n",
    "r=np.sqrt(np.square(y).sum(axis=2))\n",
    "y=np.append(y,np.expand_dims(r,2),axis=2)\n",
    "print(y)"
   ]
  },
  {
   "cell_type": "code",
   "execution_count": 4,
   "metadata": {},
   "outputs": [
    {
     "name": "stdout",
     "output_type": "stream",
     "text": [
      "(4, 4, 3)\n"
     ]
    },
    {
     "data": {
      "text/plain": [
       "(4, 4, 3)"
      ]
     },
     "execution_count": 4,
     "metadata": {},
     "output_type": "execute_result"
    }
   ],
   "source": [
    "print(y.shape)\n",
    "h=np.matmul(y,np.random.rand(3,3))\n",
    "h.shape"
   ]
  },
  {
   "cell_type": "code",
   "execution_count": 5,
   "metadata": {},
   "outputs": [
    {
     "name": "stdout",
     "output_type": "stream",
     "text": [
      "[[[-1.67817617 -1.211674    0.02825129]\n",
      "  [-1.14795662 -0.65590129  0.13231563]\n",
      "  [-0.43310292 -0.09179404  0.50037243]\n",
      "  [ 0.46638493  0.48064774  1.13242169]]\n",
      "\n",
      " [[-0.97550144 -0.95451303  0.06850906]\n",
      "  [-0.55939206 -0.40389133  0.0094171 ]\n",
      "  [ 0.15546164  0.16021591  0.3774739 ]\n",
      "  [ 1.16905966  0.73780872  1.17267946]]\n",
      "\n",
      " [[-0.08819255 -0.68901752  0.3727593 ]\n",
      "  [ 0.32791682 -0.13839583  0.31366733]\n",
      "  [ 1.04277052  0.42571142  0.68172413]\n",
      "  [ 2.05636854  1.00330422  1.4769297 ]]\n",
      "\n",
      " [[ 0.98375047 -0.41518749  0.94100199]\n",
      "  [ 1.51397003  0.14058523  1.04506634]\n",
      "  [ 2.22882373  0.70469248  1.41312314]\n",
      "  [ 3.12831157  1.27713426  2.04517239]]]\n"
     ]
    },
    {
     "data": {
      "text/plain": [
       "array([[-0.99424032, -0.93620565,  0.02824753],\n",
       "       [-0.91192734, -0.60987376,  0.13192988],\n",
       "       [-0.41968924, -0.09166518,  0.47975234],\n",
       "       [ 0.44966025,  0.46235362,  0.90544277]])"
      ]
     },
     "execution_count": 5,
     "metadata": {},
     "output_type": "execute_result"
    }
   ],
   "source": [
    "print(h)\n",
    "np.sin(h[:][:][0])"
   ]
  },
  {
   "cell_type": "code",
   "execution_count": 6,
   "metadata": {},
   "outputs": [],
   "source": [
    "def ftype(matrix, kind):\n",
    "    if kind<-0.5:\n",
    "        return np.sin(matrix)\n",
    "    elif kind<0.0:\n",
    "        return np.cos(matrix)\n",
    "    elif kind<.5:\n",
    "        return np.exp((np.square(matrix/2)/-2))/(2*(2*math.pi)**.5)\n",
    "    return matrix"
   ]
  },
  {
   "cell_type": "code",
   "execution_count": 7,
   "metadata": {},
   "outputs": [
    {
     "data": {
      "text/plain": [
       "array([[0.15056872, 0.15056872, 0.11365523],\n",
       "       [0.15056872, 0.19333406, 0.1459362 ],\n",
       "       [0.15056872, 0.19333406, 0.1459362 ],\n",
       "       [0.15056872, 0.15056872, 0.11365523]])"
      ]
     },
     "execution_count": 7,
     "metadata": {},
     "output_type": "execute_result"
    }
   ],
   "source": [
    "ftype(y[:][:][0],.0)"
   ]
  },
  {
   "cell_type": "code",
   "execution_count": 8,
   "metadata": {},
   "outputs": [
    {
     "name": "stdout",
     "output_type": "stream",
     "text": [
      "(4, 4, 3) shape of y\n",
      "(4, 4, 4) shape of h\n",
      "(4, 4) shape of h0\n",
      "(4, 4, 4)\n",
      "[[[1.55310417e-02]\n",
      "  [1.11243273e-03]\n",
      "  [1.09537662e-05]\n",
      "  [2.24588343e-07]]\n",
      "\n",
      " [[3.25160309e-01]\n",
      "  [7.84763187e-02]\n",
      "  [1.23314653e-02]\n",
      "  [1.70369307e-04]]\n",
      "\n",
      " [[9.99572073e-01]\n",
      "  [9.45176546e-01]\n",
      "  [9.69434226e-02]\n",
      "  [9.24996369e-03]]\n",
      "\n",
      " [[9.98311582e-01]\n",
      "  [9.96926005e-01]\n",
      "  [9.68568276e-01]\n",
      "  [1.31712986e-01]]]\n"
     ]
    }
   ],
   "source": [
    "ex=np.random.rand(34)*2-1\n",
    "h=np.matmul(y,ex[0:12].reshape((3,4))*2)\n",
    "print(y.shape,\"shape of y\")\n",
    "print(h.shape,\"shape of h\")\n",
    "h0=ftype(h[:,:,0],ex[27])\n",
    "print(h[:,:,0].shape,\"shape of h0\")\n",
    "h1=ftype(h[:,:,1],ex[28])\n",
    "h2=ftype(h[:,:,2],ex[29])\n",
    "h3=ftype(h[:,:,3],ex[30])\n",
    "h = np.stack((h0,h1,h2,h3),axis=2)\n",
    "print(h.shape)\n",
    "h=np.matmul(h,ex[12:24].reshape((4,3))*2)\n",
    "h0=ftype(h[:,:,0],ex[31])\n",
    "h1=ftype(h[:,:,1],ex[32])\n",
    "h2=ftype(h[:,:,2],ex[33])\n",
    "h = np.stack((h0,h1,h2),axis=2)\n",
    "h=np.matmul(h,ex[24:27].reshape((3,1))*2)\n",
    "f=1/(1 + np.exp(-h))\n",
    "print(f)"
   ]
  },
  {
   "cell_type": "code",
   "execution_count": 9,
   "metadata": {},
   "outputs": [
    {
     "data": {
      "text/plain": [
       "<matplotlib.image.AxesImage at 0x286d9c65fa0>"
      ]
     },
     "execution_count": 9,
     "metadata": {},
     "output_type": "execute_result"
    },
    {
     "data": {
      "image/png": "[encoded data removed]",
      "text/plain": [
       "<Figure size 432x288 with 1 Axes>"
      ]
     },
     "metadata": {
      "needs_background": "light"
     },
     "output_type": "display_data"
    }
   ],
   "source": [
    "plt.imshow(f, cmap='Greys_r')"
   ]
  },
  {
   "cell_type": "code",
   "execution_count": 43,
   "metadata": {},
   "outputs": [
    {
     "name": "stdout",
     "output_type": "stream",
     "text": [
      "(64, 64, 3) shape of x\n",
      "(64, 64, 4) shape of h\n",
      "(64, 64) shape of h0\n",
      "(64, 64, 4)\n"
     ]
    },
    {
     "data": {
      "text/plain": [
       "<matplotlib.image.AxesImage at 0x286db4e65e0>"
      ]
     },
     "execution_count": 43,
     "metadata": {},
     "output_type": "execute_result"
    },
    {
     "data": {
      "image/png": "[encoded data removed]",
      "text/plain": [
       "<Figure size 432x288 with 1 Axes>"
      ]
     },
     "metadata": {
      "needs_background": "light"
     },
     "output_type": "display_data"
    }
   ],
   "source": [
    "ex=np.array([0.9739412194702096,-1.9195881630170408,3.736302558493344,0.49156424231181406,13.17294862279367,-1.7976563080501464,0.028934917980382727,-6.905698678240132,-11.953465173466137,3.08548046260076,-0.006662979177737062,-1.5989294079406051,-3.2075725637688195,1.0465592843244025,1.099445461631723,-2.379373466496586,0.7402282350588381,-0.47122547894277195,14.880175088609917,-0.7196042787016892,-1.5896863160421881,-1.6000515451383253,-0.8108362868640943,0.3718337945567631])\n",
    "ex=np.random.rand(34)*2-1\n",
    "h=np.matmul(x,ex[0:12].reshape((3,4))*2)\n",
    "print(x.shape,\"shape of x\")\n",
    "print(h.shape,\"shape of h\")\n",
    "h0=ftype(h[:,:,0],ex[27])\n",
    "print(h[:,:,0].shape,\"shape of h0\")\n",
    "h1=ftype(h[:,:,1],ex[28])\n",
    "h2=ftype(h[:,:,2],ex[29])\n",
    "h3=ftype(h[:,:,3],ex[30])\n",
    "h = np.stack((h0,h1,h2,h3),axis=2)\n",
    "print(h.shape)\n",
    "h=np.matmul(h,ex[12:24].reshape((4,3))*2)\n",
    "h0=ftype(h[:,:,0],ex[31])\n",
    "h1=ftype(h[:,:,1],ex[32])\n",
    "h2=ftype(h[:,:,2],ex[33])\n",
    "h = np.stack((h0,h1,h2),axis=2)\n",
    "h=np.matmul(h,ex[24:27].reshape((3,1))*2)\n",
    "f=1/(1 + np.exp(-h))\n",
    "plt.imshow(f, cmap='Greys_r')"
   ]
  },
  {
   "cell_type": "code",
   "execution_count": 65,
   "metadata": {},
   "outputs": [
    {
     "data": {
      "text/plain": [
       "array([ 0.6933916 , -0.55544919, -0.71927201, -0.15843271,  0.75421869,\n",
       "       -0.91724378, -0.69515245,  0.4147073 ,  0.76690715,  0.29158329,\n",
       "       -0.21094101, -0.57197937,  0.76067004,  0.496663  , -0.41851979,\n",
       "       -0.58342479, -0.2565469 , -0.2151963 , -0.45661833,  0.44988693,\n",
       "        0.63214844, -0.18803103, -0.55457951, -0.45424295,  0.49932575,\n",
       "        0.72945736, -0.04679488,  0.3113873 , -0.65353303,  0.56548903,\n",
       "        0.99383777, -0.31841052,  0.16485352, -0.56974671])"
      ]
     },
     "execution_count": 65,
     "metadata": {},
     "output_type": "execute_result"
    }
   ],
   "source": [
    "ex"
   ]
  },
  {
   "cell_type": "code",
   "execution_count": null,
   "metadata": {},
   "outputs": [],
   "source": []
  },
  {
   "cell_type": "code",
   "execution_count": null,
   "metadata": {},
   "outputs": [],
   "source": []
  },
  {
   "cell_type": "code",
   "execution_count": null,
   "metadata": {},
   "outputs": [],
   "source": []
  }
 ],
 "metadata": {
  "kernelspec": {
   "display_name": "Python 3",
   "language": "python",
   "name": "python3"
  },
  "language_info": {
   "codemirror_mode": {
    "name": "ipython",
    "version": 3
   },
   "file_extension": ".py",
   "mimetype": "text/x-python",
   "name": "python",
   "nbconvert_exporter": "python",
   "pygments_lexer": "ipython3",
   "version": "3.8.5"
  }
 },
 "nbformat": 4,
 "nbformat_minor": 4
}
