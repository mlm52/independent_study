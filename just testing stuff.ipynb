{
 "cells": [
  {
   "cell_type": "code",
   "execution_count": 1,
   "metadata": {},
   "outputs": [],
   "source": [
    "import numpy as np\n",
    "import math"
   ]
  },
  {
   "cell_type": "code",
   "execution_count": 10,
   "metadata": {},
   "outputs": [
    {
     "data": {
      "text/plain": [
       "array([1, 2, 0])"
      ]
     },
     "execution_count": 10,
     "metadata": {},
     "output_type": "execute_result"
    }
   ],
   "source": [
    "mine=np.array([[2,1,0],[2,0,0],[2,1,2]])\n",
    "np.less(mine,1).sum(axis=1)"
   ]
  },
  {
   "cell_type": "code",
   "execution_count": 21,
   "metadata": {},
   "outputs": [
    {
     "data": {
      "text/plain": [
       "2.0004003202562046"
      ]
     },
     "execution_count": 21,
     "metadata": {},
     "output_type": "execute_result"
    }
   ],
   "source": [
    "thing = np.array([.001,.001,.001,.001,0])\n",
    "(np.arange(5)*(1-thing)).sum()/(5-thing.sum())"
   ]
  },
  {
   "cell_type": "code",
   "execution_count": 71,
   "metadata": {},
   "outputs": [
    {
     "data": {
      "text/plain": [
       "31.498869617968484"
      ]
     },
     "execution_count": 71,
     "metadata": {},
     "output_type": "execute_result"
    }
   ],
   "source": [
    "index=np.arange(64)\n",
    "temp_r=np.random.rand(64)/600\n",
    "temp= temp_r.sum()\n",
    "(index*(1-temp_r)).sum()/(64-temp)"
   ]
  },
  {
   "cell_type": "code",
   "execution_count": 2,
   "metadata": {},
   "outputs": [],
   "source": [
    "base_grid=np.linspace(-7.96875,7.96875,64)\n",
    "base_grid= base_grid.repeat(64)\n",
    "base_grid=base_grid.reshape((64,64))\n",
    "base_grid=np.stack((base_grid,base_grid.transpose()),axis=2)\n",
    "r=np.sqrt(np.square(base_grid).sum(axis=2))\n",
    "base_grid=np.append(base_grid,np.expand_dims(r,2),axis=2)\n",
    "\n",
    "def activation_type(matrix, kind):\n",
    "    if kind<-0.5:\n",
    "        return np.sin(matrix)\n",
    "    elif kind<0.0:\n",
    "        return np.cos(matrix)\n",
    "    elif kind<.5:\n",
    "        return np.exp((np.square(matrix/2)/-2))/(2*(2*math.pi)**.5)\n",
    "    return matrix\n",
    "\n",
    "def run_cppn(sol):\n",
    "    h=np.matmul(base_grid,sol[0:12].reshape((3,4))*2)\n",
    "    h0=activation_type(h[:,:,0],sol[27])\n",
    "    h1=activation_type(h[:,:,1],sol[28])\n",
    "    h2=activation_type(h[:,:,2],sol[29])\n",
    "    h3=activation_type(h[:,:,3],sol[30])\n",
    "    h = np.stack((h0,h1,h2,h3),axis=2)\n",
    "    h=np.matmul(h,sol[12:24].reshape((4,3))*2)\n",
    "    h0=activation_type(h[:,:,0],sol[31])\n",
    "    h1=activation_type(h[:,:,1],sol[32])\n",
    "    h2=activation_type(h[:,:,2],sol[33])\n",
    "    h = np.stack((h0,h1,h2),axis=2)\n",
    "    h=np.matmul(h,sol[24:27].reshape((3,1))*2)\n",
    "    return 1/(1 + np.exp(-h))\n",
    "\n",
    "\n",
    "goal = run_cppn(np.random.rand(34)*2-1)"
   ]
  },
  {
   "cell_type": "code",
   "execution_count": 29,
   "metadata": {},
   "outputs": [
    {
     "data": {
      "text/plain": [
       "32.88217710005588"
      ]
     },
     "execution_count": 29,
     "metadata": {},
     "output_type": "execute_result"
    }
   ],
   "source": [
    "index=np.expand_dims(np.arange(64), axis=1)\n",
    "sol=run_cppn(np.random.rand(34)*2-1)\n",
    "temp_r=np.square((goal-sol)).sum(axis=0)\n",
    "temp= temp_r.sum()\n",
    "m=np.max(temp_r)\n",
    "(index*(m-temp_r)).sum()/(64*m-temp)"
   ]
  },
  {
   "cell_type": "code",
   "execution_count": 9,
   "metadata": {},
   "outputs": [
    {
     "data": {
      "text/plain": [
       "array([[3.14434513],\n",
       "       [3.53438794],\n",
       "       [3.99789407],\n",
       "       [4.34162263],\n",
       "       [4.40598532],\n",
       "       [4.14013198],\n",
       "       [2.5999565 ],\n",
       "       [2.62608059],\n",
       "       [3.34809588],\n",
       "       [4.02975479],\n",
       "       [4.43860407],\n",
       "       [4.41297191],\n",
       "       [4.62101527],\n",
       "       [3.97607751],\n",
       "       [2.57552952],\n",
       "       [3.06587808],\n",
       "       [2.0037286 ],\n",
       "       [2.02609091],\n",
       "       [4.31465481],\n",
       "       [5.47048928],\n",
       "       [5.31887154],\n",
       "       [4.26187896],\n",
       "       [2.90992107],\n",
       "       [3.24837724],\n",
       "       [4.5125963 ],\n",
       "       [5.15671223],\n",
       "       [4.35036897],\n",
       "       [2.66860028],\n",
       "       [1.46040587],\n",
       "       [2.05139287],\n",
       "       [4.23291536],\n",
       "       [4.54792815],\n",
       "       [2.87427464],\n",
       "       [1.39042318],\n",
       "       [1.12117866],\n",
       "       [1.51108722],\n",
       "       [2.25296752],\n",
       "       [2.92137729],\n",
       "       [2.62407046],\n",
       "       [1.12593443],\n",
       "       [0.        ],\n",
       "       [0.5429693 ],\n",
       "       [2.10240199],\n",
       "       [3.47341352],\n",
       "       [3.96484181],\n",
       "       [4.88966897],\n",
       "       [6.26186907],\n",
       "       [5.30382243],\n",
       "       [2.34369865],\n",
       "       [1.21024745],\n",
       "       [3.0478337 ],\n",
       "       [5.02475518],\n",
       "       [4.69816459],\n",
       "       [3.72461246],\n",
       "       [3.84756121],\n",
       "       [4.51248806],\n",
       "       [4.84395053],\n",
       "       [4.3409909 ],\n",
       "       [3.6193748 ],\n",
       "       [3.62445845],\n",
       "       [4.09978803],\n",
       "       [5.10418162],\n",
       "       [5.51670886],\n",
       "       [4.55201047]])"
      ]
     },
     "execution_count": 9,
     "metadata": {},
     "output_type": "execute_result"
    }
   ],
   "source": [
    "(m-temp_r)"
   ]
  },
  {
   "cell_type": "code",
   "execution_count": 10,
   "metadata": {},
   "outputs": [
    {
     "data": {
      "text/plain": [
       "8.295603590095922"
      ]
     },
     "execution_count": 10,
     "metadata": {},
     "output_type": "execute_result"
    }
   ],
   "source": [
    "m"
   ]
  },
  {
   "cell_type": "code",
   "execution_count": 11,
   "metadata": {},
   "outputs": [
    {
     "data": {
      "text/plain": [
       "224.2643891198553"
      ]
     },
     "execution_count": 11,
     "metadata": {},
     "output_type": "execute_result"
    }
   ],
   "source": [
    "64*m-temp"
   ]
  },
  {
   "cell_type": "code",
   "execution_count": 12,
   "metadata": {},
   "outputs": [
    {
     "data": {
      "text/plain": [
       "224.2643891198553"
      ]
     },
     "execution_count": 12,
     "metadata": {},
     "output_type": "execute_result"
    }
   ],
   "source": [
    "(m-temp_r).sum()"
   ]
  },
  {
   "cell_type": "code",
   "execution_count": 13,
   "metadata": {},
   "outputs": [
    {
     "data": {
      "text/plain": [
       "array([ 0,  1,  2,  3,  4,  5,  6,  7,  8,  9, 10, 11, 12, 13, 14, 15, 16,\n",
       "       17, 18, 19, 20, 21, 22, 23, 24, 25, 26, 27, 28, 29, 30, 31, 32, 33,\n",
       "       34, 35, 36, 37, 38, 39, 40, 41, 42, 43, 44, 45, 46, 47, 48, 49, 50,\n",
       "       51, 52, 53, 54, 55, 56, 57, 58, 59, 60, 61, 62, 63])"
      ]
     },
     "execution_count": 13,
     "metadata": {},
     "output_type": "execute_result"
    }
   ],
   "source": [
    "index"
   ]
  },
  {
   "cell_type": "code",
   "execution_count": 14,
   "metadata": {},
   "outputs": [
    {
     "data": {
      "text/plain": [
       "array([[  0.        ,   3.14434513,   6.28869027, ..., 191.80505308,\n",
       "        194.94939822, 198.09374335],\n",
       "       [  0.        ,   3.53438794,   7.06877589, ..., 215.59766456,\n",
       "        219.1320525 , 222.66644045],\n",
       "       [  0.        ,   3.99789407,   7.99578814, ..., 243.87153829,\n",
       "        247.86943236, 251.86732643],\n",
       "       ...,\n",
       "       [  0.        ,   5.10418162,  10.20836325, ..., 311.35507898,\n",
       "        316.4592606 , 321.56344222],\n",
       "       [  0.        ,   5.51670886,  11.03341771, ..., 336.51924022,\n",
       "        342.03594907, 347.55265793],\n",
       "       [  0.        ,   4.55201047,   9.10402094, ..., 277.67263869,\n",
       "        282.22464916, 286.77665963]])"
      ]
     },
     "execution_count": 14,
     "metadata": {},
     "output_type": "execute_result"
    }
   ],
   "source": [
    "(index*(m-temp_r))"
   ]
  },
  {
   "cell_type": "code",
   "execution_count": null,
   "metadata": {},
   "outputs": [],
   "source": []
  }
 ],
 "metadata": {
  "kernelspec": {
   "display_name": "Python 3",
   "language": "python",
   "name": "python3"
  },
  "language_info": {
   "codemirror_mode": {
    "name": "ipython",
    "version": 3
   },
   "file_extension": ".py",
   "mimetype": "text/x-python",
   "name": "python",
   "nbconvert_exporter": "python",
   "pygments_lexer": "ipython3",
   "version": "3.8.5"
  }
 },
 "nbformat": 4,
 "nbformat_minor": 4
}
