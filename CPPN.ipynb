{
 "cells": [
  {
   "cell_type": "code",
   "execution_count": 1,
   "metadata": {},
   "outputs": [],
   "source": [
    "import numpy\n",
    "import math\n",
    "import matplotlib.pyplot as plt"
   ]
  },
  {
   "cell_type": "code",
   "execution_count": 2,
   "metadata": {},
   "outputs": [
    {
     "name": "stdout",
     "output_type": "stream",
     "text": [
      "(64, 64)\n",
      "[[[-7.96875    -7.96875   ]\n",
      "  [-7.96875    -7.71577381]\n",
      "  [-7.96875    -7.46279762]\n",
      "  ...\n",
      "  [-7.96875     7.46279762]\n",
      "  [-7.96875     7.71577381]\n",
      "  [-7.96875     7.96875   ]]\n",
      "\n",
      " [[-7.71577381 -7.96875   ]\n",
      "  [-7.71577381 -7.71577381]\n",
      "  [-7.71577381 -7.46279762]\n",
      "  ...\n",
      "  [-7.71577381  7.46279762]\n",
      "  [-7.71577381  7.71577381]\n",
      "  [-7.71577381  7.96875   ]]\n",
      "\n",
      " [[-7.46279762 -7.96875   ]\n",
      "  [-7.46279762 -7.71577381]\n",
      "  [-7.46279762 -7.46279762]\n",
      "  ...\n",
      "  [-7.46279762  7.46279762]\n",
      "  [-7.46279762  7.71577381]\n",
      "  [-7.46279762  7.96875   ]]\n",
      "\n",
      " ...\n",
      "\n",
      " [[ 7.46279762 -7.96875   ]\n",
      "  [ 7.46279762 -7.71577381]\n",
      "  [ 7.46279762 -7.46279762]\n",
      "  ...\n",
      "  [ 7.46279762  7.46279762]\n",
      "  [ 7.46279762  7.71577381]\n",
      "  [ 7.46279762  7.96875   ]]\n",
      "\n",
      " [[ 7.71577381 -7.96875   ]\n",
      "  [ 7.71577381 -7.71577381]\n",
      "  [ 7.71577381 -7.46279762]\n",
      "  ...\n",
      "  [ 7.71577381  7.46279762]\n",
      "  [ 7.71577381  7.71577381]\n",
      "  [ 7.71577381  7.96875   ]]\n",
      "\n",
      " [[ 7.96875    -7.96875   ]\n",
      "  [ 7.96875    -7.71577381]\n",
      "  [ 7.96875    -7.46279762]\n",
      "  ...\n",
      "  [ 7.96875     7.46279762]\n",
      "  [ 7.96875     7.71577381]\n",
      "  [ 7.96875     7.96875   ]]]\n"
     ]
    }
   ],
   "source": [
    "x=numpy.linspace(-7.96875,7.96875,64)\n",
    "x= x.repeat(64)\n",
    "x=x.reshape((64,64))\n",
    "print(x.shape)\n",
    "x=numpy.stack((x,x.transpose()),axis=2)\n",
    "print(x)"
   ]
  },
  {
   "cell_type": "code",
   "execution_count": 3,
   "metadata": {},
   "outputs": [
    {
     "name": "stdout",
     "output_type": "stream",
     "text": [
      "(4, 4)\n",
      "[[[-1.5 -1.5]\n",
      "  [-1.5 -0.5]\n",
      "  [-1.5  0.5]\n",
      "  [-1.5  1.5]]\n",
      "\n",
      " [[-0.5 -1.5]\n",
      "  [-0.5 -0.5]\n",
      "  [-0.5  0.5]\n",
      "  [-0.5  1.5]]\n",
      "\n",
      " [[ 0.5 -1.5]\n",
      "  [ 0.5 -0.5]\n",
      "  [ 0.5  0.5]\n",
      "  [ 0.5  1.5]]\n",
      "\n",
      " [[ 1.5 -1.5]\n",
      "  [ 1.5 -0.5]\n",
      "  [ 1.5  0.5]\n",
      "  [ 1.5  1.5]]]\n"
     ]
    }
   ],
   "source": [
    "y=numpy.linspace(-1.5,1.5,4)\n",
    "y= y.repeat(4)\n",
    "y=y.reshape((4,4))\n",
    "print(y.shape)\n",
    "y=numpy.stack((y,y.transpose()),axis=2)\n",
    "print(y)"
   ]
  },
  {
   "cell_type": "code",
   "execution_count": 4,
   "metadata": {},
   "outputs": [
    {
     "name": "stdout",
     "output_type": "stream",
     "text": [
      "(4, 4, 2)\n"
     ]
    },
    {
     "data": {
      "text/plain": [
       "(4, 4, 3)"
      ]
     },
     "execution_count": 4,
     "metadata": {},
     "output_type": "execute_result"
    }
   ],
   "source": [
    "print(y.shape)\n",
    "h=numpy.matmul(y,numpy.random.rand(2,3))\n",
    "h.shape"
   ]
  },
  {
   "cell_type": "code",
   "execution_count": 5,
   "metadata": {},
   "outputs": [
    {
     "name": "stdout",
     "output_type": "stream",
     "text": [
      "[[[-2.26154818 -1.3832261  -0.90476788]\n",
      "  [-1.33801586 -0.8900162  -0.38950283]\n",
      "  [-0.41448354 -0.3968063   0.12576222]\n",
      "  [ 0.50904877  0.0964036   0.64102727]]\n",
      "\n",
      " [[-1.67738171 -0.95428526 -0.81685434]\n",
      "  [-0.75384939 -0.46107537 -0.30158929]\n",
      "  [ 0.16968292  0.03213453  0.21367576]\n",
      "  [ 1.09321524  0.52534443  0.7289408 ]]\n",
      "\n",
      " [[-1.09321524 -0.52534443 -0.7289408 ]\n",
      "  [-0.16968292 -0.03213453 -0.21367576]\n",
      "  [ 0.75384939  0.46107537  0.30158929]\n",
      "  [ 1.67738171  0.95428526  0.81685434]]\n",
      "\n",
      " [[-0.50904877 -0.0964036  -0.64102727]\n",
      "  [ 0.41448354  0.3968063  -0.12576222]\n",
      "  [ 1.33801586  0.8900162   0.38950283]\n",
      "  [ 2.26154818  1.3832261   0.90476788]]]\n"
     ]
    },
    {
     "data": {
      "text/plain": [
       "array([[-0.77076721, -0.98246022, -0.78628175],\n",
       "       [-0.97302875, -0.77708194, -0.37972853],\n",
       "       [-0.40271726, -0.38647477,  0.12543097],\n",
       "       [ 0.48734685,  0.09625434,  0.59801909]])"
      ]
     },
     "execution_count": 5,
     "metadata": {},
     "output_type": "execute_result"
    }
   ],
   "source": [
    "print(h)\n",
    "numpy.sin(h[:][:][0])"
   ]
  },
  {
   "cell_type": "code",
   "execution_count": 6,
   "metadata": {},
   "outputs": [],
   "source": [
    "def ftype(matrix, kind):\n",
    "    if kind<-0.5:\n",
    "        return numpy.sin(matrix)\n",
    "    elif kind<0.0:\n",
    "        return numpy.cos(matrix)\n",
    "    elif kind<.5:\n",
    "        return numpy.exp((numpy.square(matrix/2)/-2))/(2*(2*math.pi)**.5)\n",
    "    return matrix"
   ]
  },
  {
   "cell_type": "code",
   "execution_count": 7,
   "metadata": {},
   "outputs": [
    {
     "data": {
      "text/plain": [
       "array([[0.15056872, 0.15056872],\n",
       "       [0.15056872, 0.19333406],\n",
       "       [0.15056872, 0.19333406],\n",
       "       [0.15056872, 0.15056872]])"
      ]
     },
     "execution_count": 7,
     "metadata": {},
     "output_type": "execute_result"
    }
   ],
   "source": [
    "ftype(y[:][:][0],.0)"
   ]
  },
  {
   "cell_type": "code",
   "execution_count": 8,
   "metadata": {},
   "outputs": [
    {
     "name": "stdout",
     "output_type": "stream",
     "text": [
      "(4, 4, 2) shape of y\n",
      "(4, 4, 3) shape of h\n",
      "(4, 4) shape of h0\n",
      "(4, 4, 3)\n"
     ]
    },
    {
     "data": {
      "text/plain": [
       "array([[[0.45846769],\n",
       "        [0.42177416],\n",
       "        [0.3910725 ],\n",
       "        [0.37426648]],\n",
       "\n",
       "       [[0.36955379],\n",
       "        [0.36839821],\n",
       "        [0.37317798],\n",
       "        [0.38322225]],\n",
       "\n",
       "       [[0.39142151],\n",
       "        [0.40382738],\n",
       "        [0.41109236],\n",
       "        [0.40922644]],\n",
       "\n",
       "       [[0.40231999],\n",
       "        [0.38354324],\n",
       "        [0.36270836],\n",
       "        [0.35659403]]])"
      ]
     },
     "execution_count": 8,
     "metadata": {},
     "output_type": "execute_result"
    }
   ],
   "source": [
    "ex=numpy.random.rand(24)*2-1\n",
    "h=numpy.matmul(y,ex[0:6].reshape((2,3))*2)\n",
    "print(y.shape,\"shape of y\")\n",
    "print(h.shape,\"shape of h\")\n",
    "h0=ftype(h[:,:,0],ex[18])\n",
    "print(h[:,:,0].shape,\"shape of h0\")\n",
    "h1=ftype(h[:,:,0],ex[19])\n",
    "h2=ftype(h[:,:,0],ex[20])\n",
    "h = numpy.stack((h0,h1,h2),axis=2)\n",
    "print(h.shape)\n",
    "h=numpy.matmul(h,ex[6:15].reshape((3,3))*2)\n",
    "h0=ftype(h[:,:,0],ex[21])\n",
    "h1=ftype(h[:,:,0],ex[22])\n",
    "h2=ftype(h[:,:,0],ex[23])\n",
    "h = numpy.stack((h0,h1,h2),axis=2)\n",
    "h=numpy.matmul(h,ex[15:18].reshape((3,1))*2)\n",
    "1/(1 + numpy.exp(-h))"
   ]
  },
  {
   "cell_type": "code",
   "execution_count": 9,
   "metadata": {},
   "outputs": [
    {
     "ename": "NameError",
     "evalue": "name 'f' is not defined",
     "output_type": "error",
     "traceback": [
      "\u001b[1;31m---------------------------------------------------------------------------\u001b[0m",
      "\u001b[1;31mNameError\u001b[0m                                 Traceback (most recent call last)",
      "\u001b[1;32m<ipython-input-9-f800bfb8f91e>\u001b[0m in \u001b[0;36m<module>\u001b[1;34m\u001b[0m\n\u001b[1;32m----> 1\u001b[1;33m \u001b[0mplt\u001b[0m\u001b[1;33m.\u001b[0m\u001b[0mimshow\u001b[0m\u001b[1;33m(\u001b[0m\u001b[0mf\u001b[0m\u001b[1;33m,\u001b[0m \u001b[0mcmap\u001b[0m\u001b[1;33m=\u001b[0m\u001b[1;34m'Greys_r'\u001b[0m\u001b[1;33m)\u001b[0m\u001b[1;33m\u001b[0m\u001b[1;33m\u001b[0m\u001b[0m\n\u001b[0m",
      "\u001b[1;31mNameError\u001b[0m: name 'f' is not defined"
     ]
    }
   ],
   "source": [
    "plt.imshow(f, cmap='Greys_r')"
   ]
  },
  {
   "cell_type": "code",
   "execution_count": 26,
   "metadata": {},
   "outputs": [
    {
     "name": "stdout",
     "output_type": "stream",
     "text": [
      "(64, 64, 2) shape of y\n",
      "(64, 64, 3) shape of h\n",
      "(64, 64) shape of h0\n",
      "(64, 64, 3)\n"
     ]
    },
    {
     "data": {
      "text/plain": [
       "<matplotlib.image.AxesImage at 0x1e0323ed790>"
      ]
     },
     "execution_count": 26,
     "metadata": {},
     "output_type": "execute_result"
    },
    {
     "data": {
      "image/png": "[encoded data removed]",
      "text/plain": [
       "<Figure size 432x288 with 1 Axes>"
      ]
     },
     "metadata": {
      "needs_background": "light"
     },
     "output_type": "display_data"
    }
   ],
   "source": [
    "#ex=numpy.random.rand(24)*2-1\n",
    "ex=numpy.array([0.9739412194702096,-1.9195881630170408,3.736302558493344,0.49156424231181406,13.17294862279367,-1.7976563080501464,0.028934917980382727,-6.905698678240132,-11.953465173466137,3.08548046260076,-0.006662979177737062,-1.5989294079406051,-3.2075725637688195,1.0465592843244025,1.099445461631723,-2.379373466496586,0.7402282350588381,-0.47122547894277195,14.880175088609917,-0.7196042787016892,-1.5896863160421881,-1.6000515451383253,-0.8108362868640943,0.3718337945567631])\n",
    "h=numpy.matmul(x,ex[0:6].reshape((2,3))*2)\n",
    "print(x.shape,\"shape of y\")\n",
    "print(h.shape,\"shape of h\")\n",
    "h0=ftype(h[:,:,0],ex[18])\n",
    "print(h[:,:,0].shape,\"shape of h0\")\n",
    "h1=ftype(h[:,:,0],ex[19])\n",
    "h2=ftype(h[:,:,0],ex[20])\n",
    "h = numpy.stack((h0,h1,h2),axis=2)\n",
    "print(h.shape)\n",
    "h=numpy.matmul(h,ex[6:15].reshape((3,3))*2)\n",
    "h0=ftype(h[:,:,0],ex[21])\n",
    "h1=ftype(h[:,:,0],ex[22])\n",
    "h2=ftype(h[:,:,0],ex[23])\n",
    "h = numpy.stack((h0,h1,h2),axis=2)\n",
    "h=numpy.matmul(h,ex[15:18].reshape((3,1))*2)\n",
    "f=1/(1 + numpy.exp(-h))\n",
    "plt.imshow(f, cmap='Greys_r')"
   ]
  },
  {
   "cell_type": "code",
   "execution_count": 25,
   "metadata": {},
   "outputs": [
    {
     "data": {
      "text/plain": [
       "array([-0.38015991, -0.15574398,  0.61882002,  0.40528739, -0.6653973 ,\n",
       "        0.97736908, -0.81309856, -0.14309502,  0.46741724,  0.89495651,\n",
       "       -0.21244528,  0.36924101,  0.61229317,  0.74883236, -0.30462923,\n",
       "        0.4714175 , -0.61955485, -0.68082743,  0.24654947, -0.86903075,\n",
       "       -0.64215585, -0.72893347, -0.34728298, -0.84294566])"
      ]
     },
     "execution_count": 25,
     "metadata": {},
     "output_type": "execute_result"
    }
   ],
   "source": [
    "ex"
   ]
  },
  {
   "cell_type": "code",
   "execution_count": null,
   "metadata": {},
   "outputs": [],
   "source": []
  },
  {
   "cell_type": "code",
   "execution_count": null,
   "metadata": {},
   "outputs": [],
   "source": []
  },
  {
   "cell_type": "code",
   "execution_count": null,
   "metadata": {},
   "outputs": [],
   "source": []
  }
 ],
 "metadata": {
  "kernelspec": {
   "display_name": "Python 3",
   "language": "python",
   "name": "python3"
  },
  "language_info": {
   "codemirror_mode": {
    "name": "ipython",
    "version": 3
   },
   "file_extension": ".py",
   "mimetype": "text/x-python",
   "name": "python",
   "nbconvert_exporter": "python",
   "pygments_lexer": "ipython3",
   "version": "3.8.8"
  }
 },
 "nbformat": 4,
 "nbformat_minor": 4
}
