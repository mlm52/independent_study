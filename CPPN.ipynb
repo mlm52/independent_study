{
 "cells": [
  {
   "cell_type": "code",
   "execution_count": 1,
   "metadata": {},
   "outputs": [],
   "source": [
    "import numpy as np\n",
    "import math\n",
    "import matplotlib.pyplot as plt"
   ]
  },
  {
   "cell_type": "code",
   "execution_count": 2,
   "metadata": {},
   "outputs": [
    {
     "name": "stdout",
     "output_type": "stream",
     "text": [
      "(64, 64)\n",
      "[[[-7.96875    -7.96875   ]\n",
      "  [-7.96875    -7.71577381]\n",
      "  [-7.96875    -7.46279762]\n",
      "  ...\n",
      "  [-7.96875     7.46279762]\n",
      "  [-7.96875     7.71577381]\n",
      "  [-7.96875     7.96875   ]]\n",
      "\n",
      " [[-7.71577381 -7.96875   ]\n",
      "  [-7.71577381 -7.71577381]\n",
      "  [-7.71577381 -7.46279762]\n",
      "  ...\n",
      "  [-7.71577381  7.46279762]\n",
      "  [-7.71577381  7.71577381]\n",
      "  [-7.71577381  7.96875   ]]\n",
      "\n",
      " [[-7.46279762 -7.96875   ]\n",
      "  [-7.46279762 -7.71577381]\n",
      "  [-7.46279762 -7.46279762]\n",
      "  ...\n",
      "  [-7.46279762  7.46279762]\n",
      "  [-7.46279762  7.71577381]\n",
      "  [-7.46279762  7.96875   ]]\n",
      "\n",
      " ...\n",
      "\n",
      " [[ 7.46279762 -7.96875   ]\n",
      "  [ 7.46279762 -7.71577381]\n",
      "  [ 7.46279762 -7.46279762]\n",
      "  ...\n",
      "  [ 7.46279762  7.46279762]\n",
      "  [ 7.46279762  7.71577381]\n",
      "  [ 7.46279762  7.96875   ]]\n",
      "\n",
      " [[ 7.71577381 -7.96875   ]\n",
      "  [ 7.71577381 -7.71577381]\n",
      "  [ 7.71577381 -7.46279762]\n",
      "  ...\n",
      "  [ 7.71577381  7.46279762]\n",
      "  [ 7.71577381  7.71577381]\n",
      "  [ 7.71577381  7.96875   ]]\n",
      "\n",
      " [[ 7.96875    -7.96875   ]\n",
      "  [ 7.96875    -7.71577381]\n",
      "  [ 7.96875    -7.46279762]\n",
      "  ...\n",
      "  [ 7.96875     7.46279762]\n",
      "  [ 7.96875     7.71577381]\n",
      "  [ 7.96875     7.96875   ]]]\n"
     ]
    }
   ],
   "source": [
    "x=np.linspace(-7.96875,7.96875,64)\n",
    "x= x.repeat(64)\n",
    "x=x.reshape((64,64))\n",
    "print(x.shape)\n",
    "x=np.stack((x,x.transpose()),axis=2)\n",
    "print(x)"
   ]
  },
  {
   "cell_type": "code",
   "execution_count": 3,
   "metadata": {},
   "outputs": [
    {
     "name": "stdout",
     "output_type": "stream",
     "text": [
      "(4, 4)\n",
      "[[[-1.5 -1.5]\n",
      "  [-1.5 -0.5]\n",
      "  [-1.5  0.5]\n",
      "  [-1.5  1.5]]\n",
      "\n",
      " [[-0.5 -1.5]\n",
      "  [-0.5 -0.5]\n",
      "  [-0.5  0.5]\n",
      "  [-0.5  1.5]]\n",
      "\n",
      " [[ 0.5 -1.5]\n",
      "  [ 0.5 -0.5]\n",
      "  [ 0.5  0.5]\n",
      "  [ 0.5  1.5]]\n",
      "\n",
      " [[ 1.5 -1.5]\n",
      "  [ 1.5 -0.5]\n",
      "  [ 1.5  0.5]\n",
      "  [ 1.5  1.5]]]\n"
     ]
    }
   ],
   "source": [
    "y=np.linspace(-1.5,1.5,4)\n",
    "y= y.repeat(4)\n",
    "y=y.reshape((4,4))\n",
    "print(y.shape)\n",
    "y=np.stack((y,y.transpose()),axis=2)\n",
    "print(y)"
   ]
  },
  {
   "cell_type": "code",
   "execution_count": 4,
   "metadata": {},
   "outputs": [
    {
     "name": "stdout",
     "output_type": "stream",
     "text": [
      "(4, 4, 2)\n"
     ]
    },
    {
     "data": {
      "text/plain": [
       "(4, 4, 3)"
      ]
     },
     "execution_count": 4,
     "metadata": {},
     "output_type": "execute_result"
    }
   ],
   "source": [
    "print(y.shape)\n",
    "h=np.matmul(y,np.random.rand(2,3))\n",
    "h.shape"
   ]
  },
  {
   "cell_type": "code",
   "execution_count": 5,
   "metadata": {},
   "outputs": [
    {
     "name": "stdout",
     "output_type": "stream",
     "text": [
      "[[[-2.33787483 -1.0031123  -2.5944607 ]\n",
      "  [-1.73923536 -0.5423574  -1.7029906 ]\n",
      "  [-1.1405959  -0.0816025  -0.8115205 ]\n",
      "  [-0.54195643  0.37915239  0.0799496 ]]\n",
      "\n",
      " [[-1.37793107 -0.79512566 -1.75629033]\n",
      "  [-0.77929161 -0.33437077 -0.86482023]\n",
      "  [-0.18065214  0.12638413  0.02664987]\n",
      "  [ 0.41798732  0.58713903  0.91811997]]\n",
      "\n",
      " [[-0.41798732 -0.58713903 -0.91811997]\n",
      "  [ 0.18065214 -0.12638413 -0.02664987]\n",
      "  [ 0.77929161  0.33437077  0.86482023]\n",
      "  [ 1.37793107  0.79512566  1.75629033]]\n",
      "\n",
      " [[ 0.54195643 -0.37915239 -0.0799496 ]\n",
      "  [ 1.1405959   0.0816025   0.8115205 ]\n",
      "  [ 1.73923536  0.5423574   1.7029906 ]\n",
      "  [ 2.33787483  1.0031123   2.5944607 ]]]\n"
     ]
    },
    {
     "data": {
      "text/plain": [
       "array([[-0.71994136, -0.84314849, -0.52024   ],\n",
       "       [-0.98584765, -0.51615652, -0.99127505],\n",
       "       [-0.90888218, -0.08151197, -0.72533472],\n",
       "       [-0.51581306,  0.37013319,  0.07986446]])"
      ]
     },
     "execution_count": 5,
     "metadata": {},
     "output_type": "execute_result"
    }
   ],
   "source": [
    "print(h)\n",
    "np.sin(h[:][:][0])"
   ]
  },
  {
   "cell_type": "code",
   "execution_count": 6,
   "metadata": {},
   "outputs": [],
   "source": [
    "def ftype(matrix, kind):\n",
    "    if kind<-0.5:\n",
    "        return np.sin(matrix)\n",
    "    elif kind<0.0:\n",
    "        return np.cos(matrix)\n",
    "    elif kind<.5:\n",
    "        return np.exp((np.square(matrix/2)/-2))/(2*(2*math.pi)**.5)\n",
    "    return matrix"
   ]
  },
  {
   "cell_type": "code",
   "execution_count": 7,
   "metadata": {},
   "outputs": [
    {
     "data": {
      "text/plain": [
       "array([[0.15056872, 0.15056872],\n",
       "       [0.15056872, 0.19333406],\n",
       "       [0.15056872, 0.19333406],\n",
       "       [0.15056872, 0.15056872]])"
      ]
     },
     "execution_count": 7,
     "metadata": {},
     "output_type": "execute_result"
    }
   ],
   "source": [
    "ftype(y[:][:][0],.0)"
   ]
  },
  {
   "cell_type": "code",
   "execution_count": 8,
   "metadata": {},
   "outputs": [
    {
     "name": "stdout",
     "output_type": "stream",
     "text": [
      "(4, 4, 2) shape of y\n",
      "(4, 4, 3) shape of h\n",
      "(4, 4) shape of h0\n",
      "(4, 4, 3)\n"
     ]
    },
    {
     "data": {
      "text/plain": [
       "array([[[0.37551451],\n",
       "        [0.37003004],\n",
       "        [0.36132345],\n",
       "        [0.34884443]],\n",
       "\n",
       "       [[0.32164171],\n",
       "        [0.31508842],\n",
       "        [0.30835004],\n",
       "        [0.30175795]],\n",
       "\n",
       "       [[0.30175795],\n",
       "        [0.30835004],\n",
       "        [0.31508842],\n",
       "        [0.32164171]],\n",
       "\n",
       "       [[0.34884443],\n",
       "        [0.36132345],\n",
       "        [0.37003004],\n",
       "        [0.37551451]]])"
      ]
     },
     "execution_count": 8,
     "metadata": {},
     "output_type": "execute_result"
    }
   ],
   "source": [
    "ex=np.random.rand(24)*2-1\n",
    "h=np.matmul(y,ex[0:6].reshape((2,3))*2)\n",
    "print(y.shape,\"shape of y\")\n",
    "print(h.shape,\"shape of h\")\n",
    "h0=ftype(h[:,:,0],ex[18])\n",
    "print(h[:,:,0].shape,\"shape of h0\")\n",
    "h1=ftype(h[:,:,1],ex[19])\n",
    "h2=ftype(h[:,:,2],ex[20])\n",
    "h = np.stack((h0,h1,h2),axis=2)\n",
    "print(h.shape)\n",
    "h=np.matmul(h,ex[6:15].reshape((3,3))*2)\n",
    "h0=ftype(h[:,:,0],ex[21])\n",
    "h1=ftype(h[:,:,1],ex[22])\n",
    "h2=ftype(h[:,:,2],ex[23])\n",
    "h = np.stack((h0,h1,h2),axis=2)\n",
    "h=np.matmul(h,ex[15:18].reshape((3,1))*2)\n",
    "1/(1 + np.exp(-h))"
   ]
  },
  {
   "cell_type": "code",
   "execution_count": 9,
   "metadata": {},
   "outputs": [
    {
     "ename": "NameError",
     "evalue": "name 'f' is not defined",
     "output_type": "error",
     "traceback": [
      "\u001b[1;31m---------------------------------------------------------------------------\u001b[0m",
      "\u001b[1;31mNameError\u001b[0m                                 Traceback (most recent call last)",
      "\u001b[1;32m<ipython-input-9-f800bfb8f91e>\u001b[0m in \u001b[0;36m<module>\u001b[1;34m\u001b[0m\n\u001b[1;32m----> 1\u001b[1;33m \u001b[0mplt\u001b[0m\u001b[1;33m.\u001b[0m\u001b[0mimshow\u001b[0m\u001b[1;33m(\u001b[0m\u001b[0mf\u001b[0m\u001b[1;33m,\u001b[0m \u001b[0mcmap\u001b[0m\u001b[1;33m=\u001b[0m\u001b[1;34m'Greys_r'\u001b[0m\u001b[1;33m)\u001b[0m\u001b[1;33m\u001b[0m\u001b[1;33m\u001b[0m\u001b[0m\n\u001b[0m",
      "\u001b[1;31mNameError\u001b[0m: name 'f' is not defined"
     ]
    }
   ],
   "source": [
    "plt.imshow(f, cmap='Greys_r')"
   ]
  },
  {
   "cell_type": "code",
   "execution_count": 58,
   "metadata": {},
   "outputs": [
    {
     "name": "stdout",
     "output_type": "stream",
     "text": [
      "(64, 64, 2) shape of y\n",
      "(64, 64, 3) shape of h\n",
      "(64, 64) shape of h0\n",
      "(64, 64, 3)\n"
     ]
    },
    {
     "data": {
      "text/plain": [
       "<matplotlib.image.AxesImage at 0x2b25a530730>"
      ]
     },
     "execution_count": 58,
     "metadata": {},
     "output_type": "execute_result"
    },
    {
     "data": {
      "image/png": "[encoded data removed]",
      "text/plain": [
       "<Figure size 432x288 with 1 Axes>"
      ]
     },
     "metadata": {
      "needs_background": "light"
     },
     "output_type": "display_data"
    }
   ],
   "source": [
    "ex=np.random.rand(24)*2-1\n",
    "#ex=np.array([0.9739412194702096,-1.9195881630170408,3.736302558493344,0.49156424231181406,13.17294862279367,-1.7976563080501464,0.028934917980382727,-6.905698678240132,-11.953465173466137,3.08548046260076,-0.006662979177737062,-1.5989294079406051,-3.2075725637688195,1.0465592843244025,1.099445461631723,-2.379373466496586,0.7402282350588381,-0.47122547894277195,14.880175088609917,-0.7196042787016892,-1.5896863160421881,-1.6000515451383253,-0.8108362868640943,0.3718337945567631])\n",
    "h=np.matmul(x,ex[0:6].reshape((2,3))*2)\n",
    "print(x.shape,\"shape of y\")\n",
    "print(h.shape,\"shape of h\")\n",
    "h0=ftype(h[:,:,0],ex[18])\n",
    "print(h[:,:,0].shape,\"shape of h0\")\n",
    "h1=ftype(h[:,:,1],ex[19])\n",
    "h2=ftype(h[:,:,2],ex[20])\n",
    "h = np.stack((h0,h1,h2),axis=2)\n",
    "print(h.shape)\n",
    "h=np.matmul(h,ex[6:15].reshape((3,3))*2)\n",
    "h0=ftype(h[:,:,0],ex[21])\n",
    "h1=ftype(h[:,:,1],ex[22])\n",
    "h2=ftype(h[:,:,2],ex[23])\n",
    "h = np.stack((h0,h1,h2),axis=2)\n",
    "h=np.matmul(h,ex[15:18].reshape((3,1))*2)\n",
    "f=1/(1 + np.exp(-h))\n",
    "plt.imshow(f, cmap='Greys_r')"
   ]
  },
  {
   "cell_type": "code",
   "execution_count": 30,
   "metadata": {},
   "outputs": [
    {
     "data": {
      "text/plain": [
       "array([ 0.66147559, -0.63990534, -0.55314772,  0.8395425 , -0.04019887,\n",
       "       -0.01055729, -0.4327221 , -0.00683846, -0.85222431, -0.73434095,\n",
       "       -0.26947885,  0.51641327, -0.01269171, -0.18601579, -0.18880355,\n",
       "        0.46367474, -0.39038719,  0.34778331,  0.01328462,  0.73652656,\n",
       "       -0.29584856,  0.30879922,  0.09040578, -0.29715522])"
      ]
     },
     "execution_count": 30,
     "metadata": {},
     "output_type": "execute_result"
    }
   ],
   "source": [
    "ex"
   ]
  },
  {
   "cell_type": "code",
   "execution_count": null,
   "metadata": {},
   "outputs": [],
   "source": []
  },
  {
   "cell_type": "code",
   "execution_count": null,
   "metadata": {},
   "outputs": [],
   "source": []
  },
  {
   "cell_type": "code",
   "execution_count": null,
   "metadata": {},
   "outputs": [],
   "source": []
  }
 ],
 "metadata": {
  "kernelspec": {
   "display_name": "Python 3",
   "language": "python",
   "name": "python3"
  },
  "language_info": {
   "codemirror_mode": {
    "name": "ipython",
    "version": 3
   },
   "file_extension": ".py",
   "mimetype": "text/x-python",
   "name": "python",
   "nbconvert_exporter": "python",
   "pygments_lexer": "ipython3",
   "version": "3.8.5"
  }
 },
 "nbformat": 4,
 "nbformat_minor": 4
}
