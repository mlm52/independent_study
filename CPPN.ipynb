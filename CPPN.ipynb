{
 "cells": [
  {
   "cell_type": "code",
   "execution_count": 1,
   "metadata": {},
   "outputs": [],
   "source": [
    "import numpy as np\n",
    "import math\n",
    "import matplotlib.pyplot as plt"
   ]
  },
  {
   "cell_type": "code",
   "execution_count": 2,
   "metadata": {},
   "outputs": [
    {
     "name": "stdout",
     "output_type": "stream",
     "text": [
      "(64, 64)\n",
      "[[[-7.96875    -7.96875   ]\n",
      "  [-7.96875    -7.71577381]\n",
      "  [-7.96875    -7.46279762]\n",
      "  ...\n",
      "  [-7.96875     7.46279762]\n",
      "  [-7.96875     7.71577381]\n",
      "  [-7.96875     7.96875   ]]\n",
      "\n",
      " [[-7.71577381 -7.96875   ]\n",
      "  [-7.71577381 -7.71577381]\n",
      "  [-7.71577381 -7.46279762]\n",
      "  ...\n",
      "  [-7.71577381  7.46279762]\n",
      "  [-7.71577381  7.71577381]\n",
      "  [-7.71577381  7.96875   ]]\n",
      "\n",
      " [[-7.46279762 -7.96875   ]\n",
      "  [-7.46279762 -7.71577381]\n",
      "  [-7.46279762 -7.46279762]\n",
      "  ...\n",
      "  [-7.46279762  7.46279762]\n",
      "  [-7.46279762  7.71577381]\n",
      "  [-7.46279762  7.96875   ]]\n",
      "\n",
      " ...\n",
      "\n",
      " [[ 7.46279762 -7.96875   ]\n",
      "  [ 7.46279762 -7.71577381]\n",
      "  [ 7.46279762 -7.46279762]\n",
      "  ...\n",
      "  [ 7.46279762  7.46279762]\n",
      "  [ 7.46279762  7.71577381]\n",
      "  [ 7.46279762  7.96875   ]]\n",
      "\n",
      " [[ 7.71577381 -7.96875   ]\n",
      "  [ 7.71577381 -7.71577381]\n",
      "  [ 7.71577381 -7.46279762]\n",
      "  ...\n",
      "  [ 7.71577381  7.46279762]\n",
      "  [ 7.71577381  7.71577381]\n",
      "  [ 7.71577381  7.96875   ]]\n",
      "\n",
      " [[ 7.96875    -7.96875   ]\n",
      "  [ 7.96875    -7.71577381]\n",
      "  [ 7.96875    -7.46279762]\n",
      "  ...\n",
      "  [ 7.96875     7.46279762]\n",
      "  [ 7.96875     7.71577381]\n",
      "  [ 7.96875     7.96875   ]]]\n"
     ]
    }
   ],
   "source": [
    "x=np.linspace(-7.96875,7.96875,64)\n",
    "x= x.repeat(64)\n",
    "x=x.reshape((64,64))\n",
    "print(x.shape)\n",
    "x=np.stack((x,x.transpose()),axis=2)\n",
    "print(x)"
   ]
  },
  {
   "cell_type": "code",
   "execution_count": 3,
   "metadata": {},
   "outputs": [
    {
     "name": "stdout",
     "output_type": "stream",
     "text": [
      "(4, 4)\n",
      "[[[-1.5 -1.5]\n",
      "  [-1.5 -0.5]\n",
      "  [-1.5  0.5]\n",
      "  [-1.5  1.5]]\n",
      "\n",
      " [[-0.5 -1.5]\n",
      "  [-0.5 -0.5]\n",
      "  [-0.5  0.5]\n",
      "  [-0.5  1.5]]\n",
      "\n",
      " [[ 0.5 -1.5]\n",
      "  [ 0.5 -0.5]\n",
      "  [ 0.5  0.5]\n",
      "  [ 0.5  1.5]]\n",
      "\n",
      " [[ 1.5 -1.5]\n",
      "  [ 1.5 -0.5]\n",
      "  [ 1.5  0.5]\n",
      "  [ 1.5  1.5]]]\n"
     ]
    }
   ],
   "source": [
    "y=np.linspace(-1.5,1.5,4)\n",
    "y= y.repeat(4)\n",
    "y=y.reshape((4,4))\n",
    "print(y.shape)\n",
    "y=np.stack((y,y.transpose()),axis=2)\n",
    "print(y)"
   ]
  },
  {
   "cell_type": "code",
   "execution_count": 4,
   "metadata": {},
   "outputs": [
    {
     "name": "stdout",
     "output_type": "stream",
     "text": [
      "(4, 4, 2)\n"
     ]
    },
    {
     "data": {
      "text/plain": [
       "(4, 4, 3)"
      ]
     },
     "execution_count": 4,
     "metadata": {},
     "output_type": "execute_result"
    }
   ],
   "source": [
    "print(y.shape)\n",
    "h=np.matmul(y,np.random.rand(2,3))\n",
    "h.shape"
   ]
  },
  {
   "cell_type": "code",
   "execution_count": 5,
   "metadata": {},
   "outputs": [
    {
     "name": "stdout",
     "output_type": "stream",
     "text": [
      "[[[-0.84612852 -2.60501378 -2.6887948 ]\n",
      "  [-0.7318447  -1.67924852 -1.81467774]\n",
      "  [-0.61756088 -0.75348327 -0.94056067]\n",
      "  [-0.50327706  0.17228199 -0.06644361]]\n",
      "\n",
      " [[-0.39632666 -1.79410319 -1.77038199]\n",
      "  [-0.28204284 -0.86833793 -0.89626493]\n",
      "  [-0.16775902  0.05742733 -0.02214787]\n",
      "  [-0.0534752   0.98319259  0.85196919]]\n",
      "\n",
      " [[ 0.0534752  -0.98319259 -0.85196919]\n",
      "  [ 0.16775902 -0.05742733  0.02214787]\n",
      "  [ 0.28204284  0.86833793  0.89626493]\n",
      "  [ 0.39632666  1.79410319  1.77038199]]\n",
      "\n",
      " [[ 0.50327706 -0.17228199  0.06644361]\n",
      "  [ 0.61756088  0.75348327  0.94056067]\n",
      "  [ 0.7318447   1.67924852  1.81467774]\n",
      "  [ 0.84612852  2.60501378  2.6887948 ]]]\n"
     ]
    },
    {
     "data": {
      "text/plain": [
       "array([[-0.74871967, -0.51119866, -0.43748315],\n",
       "       [-0.66824312, -0.99412482, -0.97040804],\n",
       "       [-0.57904829, -0.68418329, -0.80788865],\n",
       "       [-0.48229885,  0.171431  , -0.06639473]])"
      ]
     },
     "execution_count": 5,
     "metadata": {},
     "output_type": "execute_result"
    }
   ],
   "source": [
    "print(h)\n",
    "np.sin(h[:][:][0])"
   ]
  },
  {
   "cell_type": "code",
   "execution_count": 6,
   "metadata": {},
   "outputs": [],
   "source": [
    "def ftype(matrix, kind):\n",
    "    if kind<-0.5:\n",
    "        return np.sin(matrix)\n",
    "    elif kind<0.0:\n",
    "        return np.cos(matrix)\n",
    "    elif kind<.5:\n",
    "        return np.exp((np.square(matrix/2)/-2))/(2*(2*math.pi)**.5)\n",
    "    return matrix"
   ]
  },
  {
   "cell_type": "code",
   "execution_count": 7,
   "metadata": {},
   "outputs": [
    {
     "data": {
      "text/plain": [
       "array([[0.15056872, 0.15056872],\n",
       "       [0.15056872, 0.19333406],\n",
       "       [0.15056872, 0.19333406],\n",
       "       [0.15056872, 0.15056872]])"
      ]
     },
     "execution_count": 7,
     "metadata": {},
     "output_type": "execute_result"
    }
   ],
   "source": [
    "ftype(y[:][:][0],.0)"
   ]
  },
  {
   "cell_type": "code",
   "execution_count": 8,
   "metadata": {},
   "outputs": [
    {
     "name": "stdout",
     "output_type": "stream",
     "text": [
      "(4, 4, 2) shape of y\n",
      "(4, 4, 3) shape of h\n",
      "(4, 4) shape of h0\n",
      "(4, 4, 3)\n"
     ]
    },
    {
     "data": {
      "text/plain": [
       "array([[[0.37551451],\n",
       "        [0.37003004],\n",
       "        [0.36132345],\n",
       "        [0.34884443]],\n",
       "\n",
       "       [[0.32164171],\n",
       "        [0.31508842],\n",
       "        [0.30835004],\n",
       "        [0.30175795]],\n",
       "\n",
       "       [[0.30175795],\n",
       "        [0.30835004],\n",
       "        [0.31508842],\n",
       "        [0.32164171]],\n",
       "\n",
       "       [[0.34884443],\n",
       "        [0.36132345],\n",
       "        [0.37003004],\n",
       "        [0.37551451]]])"
      ]
     },
     "execution_count": 8,
     "metadata": {},
     "output_type": "execute_result"
    }
   ],
   "source": [
    "ex=np.random.rand(24)*2-1\n",
    "h=np.matmul(y,ex[0:6].reshape((2,3))*2)\n",
    "print(y.shape,\"shape of y\")\n",
    "print(h.shape,\"shape of h\")\n",
    "h0=ftype(h[:,:,0],ex[18])\n",
    "print(h[:,:,0].shape,\"shape of h0\")\n",
    "h1=ftype(h[:,:,1],ex[19])\n",
    "h2=ftype(h[:,:,2],ex[20])\n",
    "h = np.stack((h0,h1,h2),axis=2)\n",
    "print(h.shape)\n",
    "h=np.matmul(h,ex[6:15].reshape((3,3))*2)\n",
    "h0=ftype(h[:,:,0],ex[21])\n",
    "h1=ftype(h[:,:,1],ex[22])\n",
    "h2=ftype(h[:,:,2],ex[23])\n",
    "h = np.stack((h0,h1,h2),axis=2)\n",
    "h=np.matmul(h,ex[15:18].reshape((3,1))*2)\n",
    "1/(1 + np.exp(-h))"
   ]
  },
  {
   "cell_type": "code",
   "execution_count": 9,
   "metadata": {},
   "outputs": [
    {
     "ename": "NameError",
     "evalue": "name 'f' is not defined",
     "output_type": "error",
     "traceback": [
      "\u001b[1;31m---------------------------------------------------------------------------\u001b[0m",
      "\u001b[1;31mNameError\u001b[0m                                 Traceback (most recent call last)",
      "\u001b[1;32m<ipython-input-9-f800bfb8f91e>\u001b[0m in \u001b[0;36m<module>\u001b[1;34m\u001b[0m\n\u001b[1;32m----> 1\u001b[1;33m \u001b[0mplt\u001b[0m\u001b[1;33m.\u001b[0m\u001b[0mimshow\u001b[0m\u001b[1;33m(\u001b[0m\u001b[0mf\u001b[0m\u001b[1;33m,\u001b[0m \u001b[0mcmap\u001b[0m\u001b[1;33m=\u001b[0m\u001b[1;34m'Greys_r'\u001b[0m\u001b[1;33m)\u001b[0m\u001b[1;33m\u001b[0m\u001b[1;33m\u001b[0m\u001b[0m\n\u001b[0m",
      "\u001b[1;31mNameError\u001b[0m: name 'f' is not defined"
     ]
    }
   ],
   "source": [
    "plt.imshow(f, cmap='Greys_r')"
   ]
  },
  {
   "cell_type": "code",
   "execution_count": 8,
   "metadata": {},
   "outputs": [
    {
     "name": "stdout",
     "output_type": "stream",
     "text": [
      "(64, 64, 2) shape of y\n",
      "(64, 64, 3) shape of h\n",
      "(64, 64) shape of h0\n",
      "(64, 64, 3)\n"
     ]
    },
    {
     "data": {
      "text/plain": [
       "<matplotlib.image.AxesImage at 0x1b6820b6910>"
      ]
     },
     "execution_count": 8,
     "metadata": {},
     "output_type": "execute_result"
    },
    {
     "data": {
      "image/png": "[encoded data removed]",
      "text/plain": [
       "<Figure size 432x288 with 1 Axes>"
      ]
     },
     "metadata": {
      "needs_background": "light"
     },
     "output_type": "display_data"
    }
   ],
   "source": [
    "ex=np.random.rand(24)*2-1\n",
    "ex=np.array([0.741690635049457,1.1700578961914587,-8.55068176373275,-0.615888041296001,-0.04807984080236455,4.3556384215432296,-3.20296962585539,3.0656351725717266,0.5541659425656442,0.659207355310297,0.1531871261222791,0.221287121142282,5.3093519549787755,3.1902604455462447,1.6346597699521588,-0.044547157429825415,0.22153553067468654,-0.11534115608928666,-0.28693234110378574,3.7851941596965806,0.09574088758586646,-0.854543879177667,1.7864128884705972,-1.1474016509091725])\n",
    "h=np.matmul(x,ex[0:6].reshape((2,3))*2)\n",
    "print(x.shape,\"shape of y\")\n",
    "print(h.shape,\"shape of h\")\n",
    "h0=ftype(h[:,:,0],ex[18])\n",
    "print(h[:,:,0].shape,\"shape of h0\")\n",
    "h1=ftype(h[:,:,1],ex[19])\n",
    "h2=ftype(h[:,:,2],ex[20])\n",
    "h = np.stack((h0,h1,h2),axis=2)\n",
    "print(h.shape)\n",
    "h=np.matmul(h,ex[6:15].reshape((3,3))*2)\n",
    "h0=ftype(h[:,:,0],ex[21])\n",
    "h1=ftype(h[:,:,1],ex[22])\n",
    "h2=ftype(h[:,:,2],ex[23])\n",
    "h = np.stack((h0,h1,h2),axis=2)\n",
    "h=np.matmul(h,ex[15:18].reshape((3,1))*2)\n",
    "f=1/(1 + np.exp(-h))\n",
    "plt.imshow(f, cmap='Greys_r')"
   ]
  },
  {
   "cell_type": "code",
   "execution_count": 30,
   "metadata": {},
   "outputs": [
    {
     "data": {
      "text/plain": [
       "array([ 0.66147559, -0.63990534, -0.55314772,  0.8395425 , -0.04019887,\n",
       "       -0.01055729, -0.4327221 , -0.00683846, -0.85222431, -0.73434095,\n",
       "       -0.26947885,  0.51641327, -0.01269171, -0.18601579, -0.18880355,\n",
       "        0.46367474, -0.39038719,  0.34778331,  0.01328462,  0.73652656,\n",
       "       -0.29584856,  0.30879922,  0.09040578, -0.29715522])"
      ]
     },
     "execution_count": 30,
     "metadata": {},
     "output_type": "execute_result"
    }
   ],
   "source": [
    "ex"
   ]
  },
  {
   "cell_type": "code",
   "execution_count": 11,
   "metadata": {},
   "outputs": [
    {
     "data": {
      "text/plain": [
       "array([-3., -1.,  1.,  3.])"
      ]
     },
     "execution_count": 11,
     "metadata": {},
     "output_type": "execute_result"
    }
   ],
   "source": [
    "start=4\n",
    "pixels=4\n",
    "real=start-(start/(pixels))\n",
    "np.linspace(-1*real,real,pixels)"
   ]
  },
  {
   "cell_type": "code",
   "execution_count": null,
   "metadata": {},
   "outputs": [],
   "source": []
  },
  {
   "cell_type": "code",
   "execution_count": null,
   "metadata": {},
   "outputs": [],
   "source": []
  }
 ],
 "metadata": {
  "kernelspec": {
   "display_name": "Python 3",
   "language": "python",
   "name": "python3"
  },
  "language_info": {
   "codemirror_mode": {
    "name": "ipython",
    "version": 3
   },
   "file_extension": ".py",
   "mimetype": "text/x-python",
   "name": "python",
   "nbconvert_exporter": "python",
   "pygments_lexer": "ipython3",
   "version": "3.8.5"
  }
 },
 "nbformat": 4,
 "nbformat_minor": 4
}
